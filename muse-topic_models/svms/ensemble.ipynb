{
 "cells": [
  {
   "cell_type": "code",
   "execution_count": 2,
   "metadata": {},
   "outputs": [],
   "source": [
    "import optuna\n",
    "import pandas as pd\n",
    "import numpy as np\n",
    "import os\n",
    "import lightgbm as lgb\n",
    "from sklearn.neural_network import MLPClassifier\n",
    "from sklearn.neighbors import KNeighborsClassifier\n",
    "from sklearn.svm import SVC\n",
    "from sklearn.gaussian_process import GaussianProcessClassifier\n",
    "from sklearn.gaussian_process.kernels import RBF\n",
    "from sklearn.tree import DecisionTreeClassifier\n",
    "from sklearn.ensemble import RandomForestClassifier, AdaBoostClassifier\n",
    "from sklearn.naive_bayes import GaussianNB\n",
    "from sklearn.discriminant_analysis import QuadraticDiscriminantAnalysis\n",
    "from sklearn.metrics import accuracy_score, f1_score, mean_absolute_error, recall_score"
   ]
  },
  {
   "cell_type": "code",
   "execution_count": 3,
   "metadata": {},
   "outputs": [],
   "source": [
    "def dataset(partition, feature_set):\n",
    "    train = pd.read_csv(os.path.join('./data_csv/',partition,feature_set+'_train.csv'))\n",
    "    valid = pd.read_csv(os.path.join('./data_csv/',partition,feature_set+'_devel.csv'))\n",
    "    return train, valid"
   ]
  },
  {
   "cell_type": "code",
   "execution_count": 4,
   "metadata": {},
   "outputs": [],
   "source": [
    "def f1(y_true, y_pred):\n",
    "    return round(f1_score(y_true, y_pred, average='micro') * 100, 3)\n",
    "\n",
    "def uar(y_true, y_pred):\n",
    "    return round(recall_score(y_true, y_pred, average='macro') * 100, 3)\n",
    "\n",
    "def combine(y_true, y_pred):\n",
    "    return round((0.66 * f1(y_true, y_pred) + 0.34 * uar(y_true, y_pred)), 3)\n",
    "\n",
    "partition = 'arousal'\n",
    "feature_set = 'vggface'\n",
    "train, valid = dataset(partition, feature_set)\n",
    "last_columns = '511'"
   ]
  },
  {
   "cell_type": "code",
   "execution_count": null,
   "metadata": {},
   "outputs": [],
   "source": [
    "def ensemble(partition, feature_set, last_columns):\n",
    "    \n",
    "    X_train, y_train = train.loc[:,'segment_id':'{}'.format(last_columns)], train['class_id']\n",
    "    X_valid, y_valid = valid.loc[:,'segment_id':'{}'.format(last_columns)], valid['class_id']\n",
    "    \n",
    "    \n",
    "\n",
    "    \n",
    "    model1 = SVC(C = 1.0235576771757582, gamma = 'auto', probability=True)\n",
    "    model1.fit(X_train,y_train)\n",
    "    pred1 = model1.predict_proba(X_valid)\n",
    "#     pred1 = model1.predict(X_valid)\n",
    "\n",
    "    model2 = KNeighborsClassifier(n_neighbors = 683)\n",
    "    model2.fit(X_train,y_train)\n",
    "    pred2 = model2.predict_proba(X_valid)\n",
    "    \n",
    "    pred = (0.5*pred1+0.5*pred2)\n",
    "    result = np.argmax(pred, axis=1)\n",
    "\n",
    "    acc = combine(y_valid, result)\n",
    "    print(acc)"
   ]
  },
  {
   "cell_type": "code",
   "execution_count": null,
   "metadata": {},
   "outputs": [],
   "source": []
  }
 ],
 "metadata": {
  "kernelspec": {
   "display_name": "Python 3",
   "language": "python",
   "name": "python3"
  },
  "language_info": {
   "codemirror_mode": {
    "name": "ipython",
    "version": 3
   },
   "file_extension": ".py",
   "mimetype": "text/x-python",
   "name": "python",
   "nbconvert_exporter": "python",
   "pygments_lexer": "ipython3",
   "version": "3.7.6"
  }
 },
 "nbformat": 4,
 "nbformat_minor": 4
}
