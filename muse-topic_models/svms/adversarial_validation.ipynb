{
 "cells": [
  {
   "cell_type": "code",
   "execution_count": 41,
   "metadata": {},
   "outputs": [],
   "source": [
    "import torch\n",
    "import numpy as np\n",
    "import pandas as pd\n",
    "import os\n",
    "from sklearn.metrics import roc_auc_score\n",
    "from sklearn.model_selection import StratifiedKFold\n",
    "from sklearn.svm import SVC\n",
    "import lightgbm as lgb"
   ]
  },
  {
   "cell_type": "code",
   "execution_count": 93,
   "metadata": {},
   "outputs": [],
   "source": [
    "\n",
    "path = './data_csv/arousal'\n",
    "partition = ['train', 'test']\n",
    "feature_set = ['vggface']\n",
    "valid = pd.read_csv(os.path.join(path, feature_set[0] +'_'+ partition[0] +'.csv'))\n",
    "test = pd.read_csv(os.path.join(path, feature_set[0] +'_'+ partition[1] + '.csv'))"
   ]
  },
  {
   "cell_type": "code",
   "execution_count": 94,
   "metadata": {},
   "outputs": [],
   "source": [
    "X_valid = valid.loc[:,'segment_id':'511']\n",
    "y_valid = valid['class_id'].apply(lambda x : 0)\n",
    "X_test = test.loc[:,'segment_id':'511']\n",
    "y_test = test.rename(columns = {'id':'class_id'})\n",
    "y_test = y_test['class_id'].apply(lambda x : 1)"
   ]
  },
  {
   "cell_type": "code",
   "execution_count": 95,
   "metadata": {},
   "outputs": [],
   "source": [
    "X_all = X_valid.append(X_test).reset_index(drop=True)\n",
    "y_all = y_valid.append(y_test).reset_index(drop=True)"
   ]
  },
  {
   "cell_type": "code",
   "execution_count": 96,
   "metadata": {},
   "outputs": [
    {
     "data": {
      "text/plain": [
       "((4313, 513), (1260, 513))"
      ]
     },
     "execution_count": 96,
     "metadata": {},
     "output_type": "execute_result"
    }
   ],
   "source": [
    "X_valid.shape, X_test.shape"
   ]
  },
  {
   "cell_type": "code",
   "execution_count": 97,
   "metadata": {},
   "outputs": [],
   "source": [
    "\n",
    "np.random.seed(random_state)\n",
    "\n",
    "lgb_params = {\n",
    "    'boosting_type': 'gbdt',\n",
    "    'objective': 'binary',\n",
    "    'metric': 'auc',\n",
    "    'verbose': 1,\n",
    "    'learning_rate': 0.05,\n",
    "    'num_leaves': 31,\n",
    "    'feature_fraction': 0.7,\n",
    "    'min_data_in_leaf': 200,\n",
    "    'bagging_fraction': 0.8,\n",
    "    'bagging_freq': 20,\n",
    "    'min_hessian': 0.01,\n",
    "    'feature_fraction_seed': 2,\n",
    "    'bagging_seed': 3,\n",
    "    \"seed\": random_state\n",
    "}"
   ]
  },
  {
   "cell_type": "code",
   "execution_count": 98,
   "metadata": {},
   "outputs": [
    {
     "name": "stdout",
     "output_type": "stream",
     "text": [
      "Training until validation scores don't improve for 100 rounds\n",
      "[50]\tvalid_0's auc: 0.951827\n",
      "[100]\tvalid_0's auc: 0.959911\n",
      "[150]\tvalid_0's auc: 0.964021\n",
      "[200]\tvalid_0's auc: 0.965539\n",
      "[250]\tvalid_0's auc: 0.965794\n",
      "[300]\tvalid_0's auc: 0.967438\n",
      "[350]\tvalid_0's auc: 0.968417\n",
      "[400]\tvalid_0's auc: 0.968884\n",
      "[450]\tvalid_0's auc: 0.969293\n",
      "[500]\tvalid_0's auc: 0.969293\n",
      "[550]\tvalid_0's auc: 0.969923\n",
      "[600]\tvalid_0's auc: 0.970119\n",
      "[650]\tvalid_0's auc: 0.969863\n",
      "[700]\tvalid_0's auc: 0.970422\n",
      "[750]\tvalid_0's auc: 0.970169\n",
      "Early stopping, best iteration is:\n",
      "[681]\tvalid_0's auc: 0.970477\n",
      "Fold_0_ROC = 0.9704772020820689\n",
      "Training until validation scores don't improve for 100 rounds\n",
      "[50]\tvalid_0's auc: 0.947971\n",
      "[100]\tvalid_0's auc: 0.95766\n",
      "[150]\tvalid_0's auc: 0.96381\n",
      "[200]\tvalid_0's auc: 0.966679\n",
      "[250]\tvalid_0's auc: 0.969381\n",
      "[300]\tvalid_0's auc: 0.971815\n",
      "[350]\tvalid_0's auc: 0.971995\n",
      "[400]\tvalid_0's auc: 0.972533\n",
      "[450]\tvalid_0's auc: 0.97282\n",
      "[500]\tvalid_0's auc: 0.972264\n",
      "Early stopping, best iteration is:\n",
      "[442]\tvalid_0's auc: 0.973041\n",
      "Fold_1_ROC = 0.973040703341978\n",
      "Training until validation scores don't improve for 100 rounds\n",
      "[50]\tvalid_0's auc: 0.942766\n",
      "[100]\tvalid_0's auc: 0.954241\n",
      "[150]\tvalid_0's auc: 0.959359\n",
      "[200]\tvalid_0's auc: 0.962713\n",
      "[250]\tvalid_0's auc: 0.96447\n",
      "[300]\tvalid_0's auc: 0.965826\n",
      "[350]\tvalid_0's auc: 0.966723\n",
      "[400]\tvalid_0's auc: 0.96656\n",
      "[450]\tvalid_0's auc: 0.966454\n",
      "Early stopping, best iteration is:\n",
      "[381]\tvalid_0's auc: 0.966992\n",
      "Fold_2_ROC = 0.9669917600103001\n",
      "Training until validation scores don't improve for 100 rounds\n",
      "[50]\tvalid_0's auc: 0.948295\n",
      "[100]\tvalid_0's auc: 0.961972\n",
      "[150]\tvalid_0's auc: 0.96542\n",
      "[200]\tvalid_0's auc: 0.968058\n",
      "[250]\tvalid_0's auc: 0.968245\n",
      "[300]\tvalid_0's auc: 0.969161\n",
      "[350]\tvalid_0's auc: 0.970164\n",
      "[400]\tvalid_0's auc: 0.970229\n",
      "[450]\tvalid_0's auc: 0.970768\n",
      "[500]\tvalid_0's auc: 0.969948\n",
      "Early stopping, best iteration is:\n",
      "[431]\tvalid_0's auc: 0.971039\n",
      "Fold_3_ROC = 0.9710391117003645\n",
      "Training until validation scores don't improve for 100 rounds\n",
      "[50]\tvalid_0's auc: 0.944578\n",
      "[100]\tvalid_0's auc: 0.956533\n",
      "[150]\tvalid_0's auc: 0.961215\n",
      "[200]\tvalid_0's auc: 0.964012\n",
      "[250]\tvalid_0's auc: 0.964544\n",
      "[300]\tvalid_0's auc: 0.965013\n",
      "[350]\tvalid_0's auc: 0.965114\n",
      "[400]\tvalid_0's auc: 0.965174\n",
      "[450]\tvalid_0's auc: 0.965671\n",
      "[500]\tvalid_0's auc: 0.967379\n",
      "[550]\tvalid_0's auc: 0.967177\n",
      "[600]\tvalid_0's auc: 0.966928\n",
      "Early stopping, best iteration is:\n",
      "[509]\tvalid_0's auc: 0.967817\n",
      "Fold_4_ROC = 0.9678166316797406\n"
     ]
    }
   ],
   "source": [
    "skf = StratifiedKFold(n_splits=5, shuffle=True, random_state=random_state)\n",
    "for fold, (trn_idx, val_idx) in enumerate(skf.split(X_all, y_all)):\n",
    "    X_train, y_train = X_all.iloc[trn_idx], y_all.iloc[trn_idx]\n",
    "    X_valid, y_valid = X_all.iloc[val_idx], y_all.iloc[val_idx]\n",
    "    train_data = lgb.Dataset(X_train, label=y_train)\n",
    "    valid_data = lgb.Dataset(X_valid, label=y_valid)\n",
    "\n",
    "    evals_result = {}\n",
    "    lgb_clf = lgb.train(lgb_params,\n",
    "                        train_data,\n",
    "                        7500,\n",
    "                        valid_sets=valid_data,\n",
    "                        early_stopping_rounds=100,\n",
    "                        verbose_eval=50,\n",
    "                        evals_result=evals_result)\n",
    "    \n",
    "    pred = lgb_clf.predict(X_valid, num_iteration=lgb_clf.best_iteration)\n",
    "#     model = SVC(C=10000, gamma='scale')\n",
    "#     model.fit(X_train,y_train)\n",
    "#     pred = model.predict(X_valid)\n",
    "    acc = roc_auc_score(y_valid, pred)\n",
    "    print(\"Fold_{}_ROC = {}\".format(fold, acc))\n",
    "    "
   ]
  },
  {
   "cell_type": "code",
   "execution_count": null,
   "metadata": {},
   "outputs": [],
   "source": []
  },
  {
   "cell_type": "code",
   "execution_count": null,
   "metadata": {},
   "outputs": [],
   "source": []
  }
 ],
 "metadata": {
  "kernelspec": {
   "display_name": "Python 3",
   "language": "python",
   "name": "python3"
  },
  "language_info": {
   "codemirror_mode": {
    "name": "ipython",
    "version": 3
   },
   "file_extension": ".py",
   "mimetype": "text/x-python",
   "name": "python",
   "nbconvert_exporter": "python",
   "pygments_lexer": "ipython3",
   "version": "3.7.6"
  }
 },
 "nbformat": 4,
 "nbformat_minor": 4
}
